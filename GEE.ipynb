{
 "cells": [
  {
   "cell_type": "markdown",
   "metadata": {},
   "source": [
    "# Linear Mixed Model with iris dataset\n",
    "\n",
    "#### Degarege Nibret\n",
    "#### ID = GSR/5954/16"
   ]
  },
  {
   "cell_type": "markdown",
   "metadata": {},
   "source": [
    "Importing liberaries"
   ]
  },
  {
   "cell_type": "code",
   "execution_count": 1,
   "metadata": {},
   "outputs": [],
   "source": [
    "import pandas as pd\n",
    "import statsmodels.api as sm\n",
    "from statsmodels.formula.api import gee\n",
    "import seaborn as sns\n",
    "import matplotlib.pyplot as plt"
   ]
  },
  {
   "cell_type": "code",
   "execution_count": 3,
   "metadata": {},
   "outputs": [],
   "source": [
    "iris_data = pd.read_csv(\"D:/AAU PHDS/Semister Three/Advanced Biostastics/Advanced Bio by Dr. Zeytu/Iris.csv\")"
   ]
  },
  {
   "cell_type": "code",
   "execution_count": 4,
   "metadata": {},
   "outputs": [
    {
     "data": {
      "text/html": [
       "<div>\n",
       "<style scoped>\n",
       "    .dataframe tbody tr th:only-of-type {\n",
       "        vertical-align: middle;\n",
       "    }\n",
       "\n",
       "    .dataframe tbody tr th {\n",
       "        vertical-align: top;\n",
       "    }\n",
       "\n",
       "    .dataframe thead th {\n",
       "        text-align: right;\n",
       "    }\n",
       "</style>\n",
       "<table border=\"1\" class=\"dataframe\">\n",
       "  <thead>\n",
       "    <tr style=\"text-align: right;\">\n",
       "      <th></th>\n",
       "      <th>Id</th>\n",
       "      <th>SepalLengthCm</th>\n",
       "      <th>SepalWidthCm</th>\n",
       "      <th>PetalLengthCm</th>\n",
       "      <th>PetalWidthCm</th>\n",
       "      <th>Species</th>\n",
       "    </tr>\n",
       "  </thead>\n",
       "  <tbody>\n",
       "    <tr>\n",
       "      <th>0</th>\n",
       "      <td>1</td>\n",
       "      <td>5.1</td>\n",
       "      <td>3.5</td>\n",
       "      <td>1.4</td>\n",
       "      <td>0.2</td>\n",
       "      <td>Iris-setosa</td>\n",
       "    </tr>\n",
       "    <tr>\n",
       "      <th>1</th>\n",
       "      <td>2</td>\n",
       "      <td>4.9</td>\n",
       "      <td>3.0</td>\n",
       "      <td>1.4</td>\n",
       "      <td>0.2</td>\n",
       "      <td>Iris-setosa</td>\n",
       "    </tr>\n",
       "    <tr>\n",
       "      <th>2</th>\n",
       "      <td>3</td>\n",
       "      <td>4.7</td>\n",
       "      <td>3.2</td>\n",
       "      <td>1.3</td>\n",
       "      <td>0.2</td>\n",
       "      <td>Iris-setosa</td>\n",
       "    </tr>\n",
       "    <tr>\n",
       "      <th>3</th>\n",
       "      <td>4</td>\n",
       "      <td>4.6</td>\n",
       "      <td>3.1</td>\n",
       "      <td>1.5</td>\n",
       "      <td>0.2</td>\n",
       "      <td>Iris-setosa</td>\n",
       "    </tr>\n",
       "    <tr>\n",
       "      <th>4</th>\n",
       "      <td>5</td>\n",
       "      <td>5.0</td>\n",
       "      <td>3.6</td>\n",
       "      <td>1.4</td>\n",
       "      <td>0.2</td>\n",
       "      <td>Iris-setosa</td>\n",
       "    </tr>\n",
       "    <tr>\n",
       "      <th>...</th>\n",
       "      <td>...</td>\n",
       "      <td>...</td>\n",
       "      <td>...</td>\n",
       "      <td>...</td>\n",
       "      <td>...</td>\n",
       "      <td>...</td>\n",
       "    </tr>\n",
       "    <tr>\n",
       "      <th>145</th>\n",
       "      <td>146</td>\n",
       "      <td>6.7</td>\n",
       "      <td>3.0</td>\n",
       "      <td>5.2</td>\n",
       "      <td>2.3</td>\n",
       "      <td>Iris-virginica</td>\n",
       "    </tr>\n",
       "    <tr>\n",
       "      <th>146</th>\n",
       "      <td>147</td>\n",
       "      <td>6.3</td>\n",
       "      <td>2.5</td>\n",
       "      <td>5.0</td>\n",
       "      <td>1.9</td>\n",
       "      <td>Iris-virginica</td>\n",
       "    </tr>\n",
       "    <tr>\n",
       "      <th>147</th>\n",
       "      <td>148</td>\n",
       "      <td>6.5</td>\n",
       "      <td>3.0</td>\n",
       "      <td>5.2</td>\n",
       "      <td>2.0</td>\n",
       "      <td>Iris-virginica</td>\n",
       "    </tr>\n",
       "    <tr>\n",
       "      <th>148</th>\n",
       "      <td>149</td>\n",
       "      <td>6.2</td>\n",
       "      <td>3.4</td>\n",
       "      <td>5.4</td>\n",
       "      <td>2.3</td>\n",
       "      <td>Iris-virginica</td>\n",
       "    </tr>\n",
       "    <tr>\n",
       "      <th>149</th>\n",
       "      <td>150</td>\n",
       "      <td>5.9</td>\n",
       "      <td>3.0</td>\n",
       "      <td>5.1</td>\n",
       "      <td>1.8</td>\n",
       "      <td>Iris-virginica</td>\n",
       "    </tr>\n",
       "  </tbody>\n",
       "</table>\n",
       "<p>150 rows × 6 columns</p>\n",
       "</div>"
      ],
      "text/plain": [
       "      Id  SepalLengthCm  SepalWidthCm  PetalLengthCm  PetalWidthCm  \\\n",
       "0      1            5.1           3.5            1.4           0.2   \n",
       "1      2            4.9           3.0            1.4           0.2   \n",
       "2      3            4.7           3.2            1.3           0.2   \n",
       "3      4            4.6           3.1            1.5           0.2   \n",
       "4      5            5.0           3.6            1.4           0.2   \n",
       "..   ...            ...           ...            ...           ...   \n",
       "145  146            6.7           3.0            5.2           2.3   \n",
       "146  147            6.3           2.5            5.0           1.9   \n",
       "147  148            6.5           3.0            5.2           2.0   \n",
       "148  149            6.2           3.4            5.4           2.3   \n",
       "149  150            5.9           3.0            5.1           1.8   \n",
       "\n",
       "            Species  \n",
       "0       Iris-setosa  \n",
       "1       Iris-setosa  \n",
       "2       Iris-setosa  \n",
       "3       Iris-setosa  \n",
       "4       Iris-setosa  \n",
       "..              ...  \n",
       "145  Iris-virginica  \n",
       "146  Iris-virginica  \n",
       "147  Iris-virginica  \n",
       "148  Iris-virginica  \n",
       "149  Iris-virginica  \n",
       "\n",
       "[150 rows x 6 columns]"
      ]
     },
     "execution_count": 4,
     "metadata": {},
     "output_type": "execute_result"
    }
   ],
   "source": [
    "iris_data"
   ]
  },
  {
   "cell_type": "code",
   "execution_count": 8,
   "metadata": {},
   "outputs": [
    {
     "name": "stdout",
     "output_type": "stream",
     "text": [
      "                               GEE Regression Results                              \n",
      "===================================================================================\n",
      "Dep. Variable:                PetalWidthCm   No. Observations:                  150\n",
      "Model:                                 GEE   No. clusters:                        3\n",
      "Method:                        Generalized   Min. cluster size:                  50\n",
      "                      Estimating Equations   Max. cluster size:                  50\n",
      "Family:                           Gaussian   Mean cluster size:                50.0\n",
      "Dependence structure:         Exchangeable   Num. iterations:                    15\n",
      "Date:                     Mon, 02 Dec 2024   Scale:                           0.189\n",
      "Covariance type:                    robust   Time:                         14:31:56\n",
      "=================================================================================\n",
      "                    coef    std err          z      P>|z|      [0.025      0.975]\n",
      "---------------------------------------------------------------------------------\n",
      "Intercept         0.0664      0.198      0.335      0.737      -0.321       0.454\n",
      "SepalLengthCm    -0.1048      0.024     -4.288      0.000      -0.153      -0.057\n",
      "PetalLengthCm     0.2674      0.031      8.504      0.000       0.206       0.329\n",
      "SepalWidthCm      0.2422      0.090      2.682      0.007       0.065       0.419\n",
      "==============================================================================\n",
      "Skew:                          0.0219   Kurtosis:                      -1.0355\n",
      "Centered skew:                -0.1802   Centered kurtosis:              1.2033\n",
      "==============================================================================\n"
     ]
    }
   ],
   "source": [
    "# Fit the GEE model\n",
    "gee_model = sm.GEE.from_formula(\n",
    "    \"PetalWidthCm ~ SepalLengthCm + PetalLengthCm + SepalWidthCm\", \n",
    "    groups=\"Species\", \n",
    "    data=iris_data,\n",
    "    family=sm.families.Gaussian(),  # Assuming a Gaussian distribution for the continuous outcome\n",
    "    cov_struct=sm.cov_struct.Exchangeable()  # Assuming exchangeable correlation structure (constant correlation within species)\n",
    ")\n",
    "\n",
    "# Fit the model and print the results\n",
    "gee_result = gee_model.fit()\n",
    "print(gee_result.summary())"
   ]
  },
  {
   "cell_type": "markdown",
   "metadata": {},
   "source": [
    "### Model Coefficients\n",
    "\n",
    "Intercept was 0.0664 (p = 0.737) which is not statistically significant, suggesting that the baseline value for PetalWidthCm when all predictors are zero, is not significantly different from zero. SepalLengthCm was -0.1048 (p = 0.000) in which a negative relationship was observed between SepalLengthCm and PetalWidthCm. For each 1 cm increase in sepal length, the petal width decreases by approximately 0.105 cm.\n",
    "\n",
    "PetalLengthCm was 0.2674 (p = 0.000). A significant positive relationship was found between PetalLengthCm and PetalWidthCm. For each 1 cm increase in petal length, the petal width increases by 0.267 cm. SepalWidthCm was 0.2422 (p = 0.007) in which significant positive relationship was also found between SepalWidthCm and PetalWidthCm. For each 1 cm increase in sepal width, the petal width increases by 0.242 cm.\n",
    "\n",
    "### Confidence Intervals\n",
    "\n",
    "For SepalLengthCm, the 95% confidence interval for the coefficient is [-0.153, -0.057], indicating that the true effect of SepalLengthCm on PetalWidthCm is likely to fall within this range. For PetalLengthCm, the 95% confidence interval for the coefficient is [0.206, 0.329], suggesting that the true effect of PetalLengthCm on PetalWidthCm is likely to be positive and substantial. And For SepalWidthCm, the 95% confidence interval for the coefficient is [0.065, 0.419], showing that the effect of SepalWidthCm on PetalWidthCm is positive and statistically significant.\n",
    "\n",
    "### Model Fit\n",
    "The residual analysis showed a skew of 0.0219 and kurtosis of -1.0355, suggesting the residuals are approximately symmetric.\n",
    "The GEE model effectively captured the correlation within species using the exchangeable correlation structure, as indicated by the robust standard errors and model fit statistics.\n"
   ]
  },
  {
   "cell_type": "code",
   "execution_count": 9,
   "metadata": {},
   "outputs": [],
   "source": [
    "# Extract the fitted values and residuals\n",
    "fitted_values_gee = gee_result.fittedvalues\n",
    "residuals_gee = gee_result.resid_working"
   ]
  },
  {
   "cell_type": "code",
   "execution_count": 10,
   "metadata": {},
   "outputs": [
    {
     "data": {
      "image/png": "[encoded data removed]",
      "text/plain": [
       "<Figure size 800x600 with 1 Axes>"
      ]
     },
     "metadata": {},
     "output_type": "display_data"
    }
   ],
   "source": [
    "# Residual vs Fitted plot\n",
    "plt.figure(figsize=(8, 6))\n",
    "sns.scatterplot(x=fitted_values_gee, y=residuals_gee)\n",
    "plt.axhline(0, color='red', linestyle='--')\n",
    "plt.title(\"Residuals vs Fitted Values (GEE)\")\n",
    "plt.xlabel(\"Fitted Values\")\n",
    "plt.ylabel(\"Residuals\")\n",
    "plt.show()"
   ]
  },
  {
   "cell_type": "code",
   "execution_count": 11,
   "metadata": {},
   "outputs": [
    {
     "data": {
      "image/png": "[encoded data removed]",
      "text/plain": [
       "<Figure size 640x480 with 1 Axes>"
      ]
     },
     "metadata": {},
     "output_type": "display_data"
    }
   ],
   "source": [
    "# Q-Q plot of residuals\n",
    "sm.qqplot(residuals_gee, line='45')\n",
    "plt.title(\"Q-Q Plot of Residuals (GEE)\")\n",
    "plt.show()"
   ]
  },
  {
   "cell_type": "markdown",
   "metadata": {},
   "source": [
    "### Exchangeable correlation structure"
   ]
  },
  {
   "cell_type": "code",
   "execution_count": 14,
   "metadata": {},
   "outputs": [],
   "source": [
    "# Exchangeable correlation structure\n",
    "gee_exchangeable = sm.GEE.from_formula(formula, groups=\"Species\", data=iris_data,\n",
    "                                       family=sm.families.Gaussian(),\n",
    "                                       cov_struct=sm.cov_struct.Exchangeable())\n",
    "gee_exchangeable_result = gee_exchangeable.fit()"
   ]
  },
  {
   "cell_type": "code",
   "execution_count": 15,
   "metadata": {},
   "outputs": [
    {
     "name": "stdout",
     "output_type": "stream",
     "text": [
      "Exchangeable Correlation Structure:\n",
      "                               GEE Regression Results                              \n",
      "===================================================================================\n",
      "Dep. Variable:                PetalWidthCm   No. Observations:                  150\n",
      "Model:                                 GEE   No. clusters:                        3\n",
      "Method:                        Generalized   Min. cluster size:                  50\n",
      "                      Estimating Equations   Max. cluster size:                  50\n",
      "Family:                           Gaussian   Mean cluster size:                50.0\n",
      "Dependence structure:         Exchangeable   Num. iterations:                    15\n",
      "Date:                     Mon, 02 Dec 2024   Scale:                           0.189\n",
      "Covariance type:                    robust   Time:                         15:08:28\n",
      "=================================================================================\n",
      "                    coef    std err          z      P>|z|      [0.025      0.975]\n",
      "---------------------------------------------------------------------------------\n",
      "Intercept         0.0664      0.198      0.335      0.737      -0.321       0.454\n",
      "SepalLengthCm    -0.1048      0.024     -4.288      0.000      -0.153      -0.057\n",
      "PetalLengthCm     0.2674      0.031      8.504      0.000       0.206       0.329\n",
      "SepalWidthCm      0.2422      0.090      2.682      0.007       0.065       0.419\n",
      "==============================================================================\n",
      "Skew:                          0.0219   Kurtosis:                      -1.0355\n",
      "Centered skew:                -0.1802   Centered kurtosis:              1.2033\n",
      "==============================================================================\n"
     ]
    }
   ],
   "source": [
    "# Display the summary of each model\n",
    "print(\"Exchangeable Correlation Structure:\")\n",
    "print(gee_exchangeable_result.summary())"
   ]
  },
  {
   "cell_type": "markdown",
   "metadata": {},
   "source": [
    "### Independence correlation structure"
   ]
  },
  {
   "cell_type": "code",
   "execution_count": 17,
   "metadata": {},
   "outputs": [
    {
     "name": "stdout",
     "output_type": "stream",
     "text": [
      "\n",
      "Independence Correlation Structure:\n",
      "                               GEE Regression Results                              \n",
      "===================================================================================\n",
      "Dep. Variable:                PetalWidthCm   No. Observations:                  150\n",
      "Model:                                 GEE   No. clusters:                        3\n",
      "Method:                        Generalized   Min. cluster size:                  50\n",
      "                      Estimating Equations   Max. cluster size:                  50\n",
      "Family:                           Gaussian   Mean cluster size:                50.0\n",
      "Dependence structure:         Independence   Num. iterations:                     2\n",
      "Date:                     Mon, 02 Dec 2024   Scale:                           0.037\n",
      "Covariance type:                    robust   Time:                         15:09:39\n",
      "=================================================================================\n",
      "                    coef    std err          z      P>|z|      [0.025      0.975]\n",
      "---------------------------------------------------------------------------------\n",
      "Intercept        -0.2487      0.151     -1.649      0.099      -0.544       0.047\n",
      "SepalLengthCm    -0.2103      0.087     -2.426      0.015      -0.380      -0.040\n",
      "PetalLengthCm     0.5261      0.048     11.000      0.000       0.432       0.620\n",
      "SepalWidthCm      0.2288      0.070      3.270      0.001       0.092       0.366\n",
      "==============================================================================\n",
      "Skew:                          0.2218   Kurtosis:                       0.9455\n",
      "Centered skew:                -0.2764   Centered kurtosis:              1.2445\n",
      "==============================================================================\n"
     ]
    }
   ],
   "source": [
    "# Independence correlation structure\n",
    "gee_independence = sm.GEE.from_formula(formula, groups=\"Species\", data=iris_data,\n",
    "                                       family=sm.families.Gaussian(),\n",
    "                                       cov_struct=sm.cov_struct.Independence())\n",
    "gee_independence_result = gee_independence.fit()\n",
    "\n",
    "print(\"\\nIndependence Correlation Structure:\")\n",
    "print(gee_independence_result.summary())"
   ]
  },
  {
   "cell_type": "markdown",
   "metadata": {},
   "source": [
    "### Autoregressive correlation structure"
   ]
  },
  {
   "cell_type": "code",
   "execution_count": 18,
   "metadata": {},
   "outputs": [
    {
     "name": "stdout",
     "output_type": "stream",
     "text": [
      "\n",
      "Autoregressive Correlation Structure:\n",
      "                               GEE Regression Results                              \n",
      "===================================================================================\n",
      "Dep. Variable:                PetalWidthCm   No. Observations:                  150\n",
      "Model:                                 GEE   No. clusters:                        3\n",
      "Method:                        Generalized   Min. cluster size:                  50\n",
      "                      Estimating Equations   Max. cluster size:                  50\n",
      "Family:                           Gaussian   Mean cluster size:                50.0\n",
      "Dependence structure:       Autoregressive   Num. iterations:                    14\n",
      "Date:                     Mon, 02 Dec 2024   Scale:                           0.037\n",
      "Covariance type:                    robust   Time:                         15:09:46\n",
      "=================================================================================\n",
      "                    coef    std err          z      P>|z|      [0.025      0.975]\n",
      "---------------------------------------------------------------------------------\n",
      "Intercept        -0.1666      0.109     -1.525      0.127      -0.381       0.048\n",
      "SepalLengthCm    -0.1839      0.075     -2.465      0.014      -0.330      -0.038\n",
      "PetalLengthCm     0.5022      0.041     12.137      0.000       0.421       0.583\n",
      "SepalWidthCm      0.1808      0.069      2.613      0.009       0.045       0.317\n",
      "==============================================================================\n",
      "Skew:                          0.3972   Kurtosis:                       0.9563\n",
      "Centered skew:                -0.2871   Centered kurtosis:              1.3158\n",
      "==============================================================================\n"
     ]
    },
    {
     "name": "stderr",
     "output_type": "stream",
     "text": [
      "C:\\Users\\1221\\AppData\\Local\\Packages\\PythonSoftwareFoundation.Python.3.11_qbz5n2kfra8p0\\LocalCache\\local-packages\\Python311\\site-packages\\statsmodels\\genmod\\cov_struct.py:796: FutureWarning: grid=True will become default in a future version\n",
      "  warnings.warn(\n"
     ]
    }
   ],
   "source": [
    "# Autoregressive correlation structure\n",
    "gee_autoregressive = sm.GEE.from_formula(formula, groups=\"Species\", data=iris_data,\n",
    "                                         family=sm.families.Gaussian(),\n",
    "                                         cov_struct=sm.cov_struct.Autoregressive())\n",
    "gee_autoregressive_result = gee_autoregressive.fit()\n",
    "\n",
    "\n",
    "print(\"\\nAutoregressive Correlation Structure:\")\n",
    "print(gee_autoregressive_result.summary())"
   ]
  }
 ],
 "metadata": {
  "kernelspec": {
   "display_name": "Python 3",
   "language": "python",
   "name": "python3"
  },
  "language_info": {
   "codemirror_mode": {
    "name": "ipython",
    "version": 3
   },
   "file_extension": ".py",
   "mimetype": "text/x-python",
   "name": "python",
   "nbconvert_exporter": "python",
   "pygments_lexer": "ipython3",
   "version": "3.11.9"
  }
 },
 "nbformat": 4,
 "nbformat_minor": 2
}
